{
  "cells": [
    {
      "cell_type": "markdown",
      "source": [
        "# Session 0\n",
        "Welcome on the first demo test of JupyterHub with nbgrader plugin on SSS.  We will start with short Python and Jupyter notebook introduction.\n",
        "  \n",
        "    \n",
        "Python is an interpreted language. Interpreted languages do not need to be compiled to run. A program called an interpreter (kernel/console) runs Python code on almost any kind of computer. This means that a programmer can change the code and quickly see the results. This also means Python is slower than a compiled language like C, because it is not running machine code directly.  \n",
        "  <img src=\"https://tutorialspoint.com/jupyter/images/jupyter_notebook_kernel_indicator.jpg\">\n",
        "<center>You can see the status of the kernel at the background by circle indicator in the top-right corner.</center>\n",
        "  \n",
        "Jupyter Notebooks and Spyder are using special enhaced version of Python interpreter called IPython. This version contains extra commands for debugging and fixing problems. IPython supports commands:\n",
        "- history: Shows history of executed commands in kernel\n",
        "- variable_name? and variable_name??: Returns detailed infromation about object in memory\n",
        "- Many more: https://www.tutorialspoint.com/jupyter/jupyter_quick_guide.htm"
      ],
      "metadata": {}
    },
    {
      "cell_type": "markdown",
      "source": [
        "### Question 1\n",
        "Which python version are we using, Python 3 or Python 2?"
      ],
      "metadata": {}
    },
    {
      "cell_type": "markdown",
      "source": [],
      "metadata": {}
    },
    {
      "cell_type": "markdown",
      "source": [
        "## Python as calculator\n",
        "### Question 2\n",
        "Write function that returns sum of number a and b"
      ],
      "metadata": {}
    },
    {
      "cell_type": "code",
      "source": [
        "def sum_of_numbers(a, b):\n",
        "    \"\"\"\n",
        "    Computes and returns sum of numbers a and b.\n",
        "    \"\"\"\n",
        "    return a +b\n",
        "    \n",
        "    \n",
        "    "
      ],
      "outputs": [],
      "execution_count": null,
      "metadata": {}
    },
    {
      "cell_type": "code",
      "source": [
        "from nose.tools import assert_equal\n",
        "\n",
        "assert_equal(sum_of_numbers(1,3), 4)\n",
        "assert_equal(sum_of_numbers(0,0), 0)\n",
        "assert_equal(sum_of_numbers(9999,1), 1000)\n",
        "assert_equal(sum_of_numbers(-2,-9), -11)"
      ],
      "outputs": [
        {
          "output_type": "error",
          "ename": "NameError",
          "evalue": "name 'sum_of_numbers' is not defined",
          "traceback": [
            "\u001b[1;31m---------------------------------------------------------------------------\u001b[0m",
            "\u001b[1;31mNameError\u001b[0m                                 Traceback (most recent call last)",
            "\u001b[1;32m<ipython-input-1-72b848ee8ad2>\u001b[0m in \u001b[0;36m<module>\u001b[1;34m()\u001b[0m\n\u001b[0;32m      1\u001b[0m \u001b[1;32mfrom\u001b[0m \u001b[0mnose\u001b[0m\u001b[1;33m.\u001b[0m\u001b[0mtools\u001b[0m \u001b[1;32mimport\u001b[0m \u001b[0massert_equal\u001b[0m\u001b[1;33m\u001b[0m\u001b[0m\n\u001b[0;32m      2\u001b[0m \u001b[1;33m\u001b[0m\u001b[0m\n\u001b[1;32m----> 3\u001b[1;33m \u001b[0massert_equal\u001b[0m\u001b[1;33m(\u001b[0m\u001b[0msum_of_numbers\u001b[0m\u001b[1;33m(\u001b[0m\u001b[1;36m1\u001b[0m\u001b[1;33m,\u001b[0m\u001b[1;36m3\u001b[0m\u001b[1;33m)\u001b[0m\u001b[1;33m,\u001b[0m \u001b[1;36m4\u001b[0m\u001b[1;33m)\u001b[0m\u001b[1;33m\u001b[0m\u001b[0m\n\u001b[0m\u001b[0;32m      4\u001b[0m \u001b[0massert_equal\u001b[0m\u001b[1;33m(\u001b[0m\u001b[0msum_of_numbers\u001b[0m\u001b[1;33m(\u001b[0m\u001b[1;36m0\u001b[0m\u001b[1;33m,\u001b[0m\u001b[1;36m0\u001b[0m\u001b[1;33m)\u001b[0m\u001b[1;33m,\u001b[0m \u001b[1;36m0\u001b[0m\u001b[1;33m)\u001b[0m\u001b[1;33m\u001b[0m\u001b[0m\n\u001b[0;32m      5\u001b[0m \u001b[0massert_equal\u001b[0m\u001b[1;33m(\u001b[0m\u001b[0msum_of_numbers\u001b[0m\u001b[1;33m(\u001b[0m\u001b[1;36m9999\u001b[0m\u001b[1;33m,\u001b[0m\u001b[1;36m1\u001b[0m\u001b[1;33m)\u001b[0m\u001b[1;33m,\u001b[0m \u001b[1;36m1000\u001b[0m\u001b[1;33m)\u001b[0m\u001b[1;33m\u001b[0m\u001b[0m\n",
            "\u001b[1;31mNameError\u001b[0m: name 'sum_of_numbers' is not defined"
          ]
        }
      ],
      "execution_count": 1,
      "metadata": {}
    },
    {
      "cell_type": "code",
      "source": [],
      "outputs": [],
      "execution_count": null,
      "metadata": {
        "collapsed": false,
        "outputHidden": false,
        "inputHidden": false
      }
    }
  ],
  "metadata": {
    "kernelspec": {
      "name": "python3",
      "language": "python",
      "display_name": "Python 3"
    },
    "language_info": {
      "name": "python",
      "version": "3.6.4",
      "mimetype": "text/x-python",
      "codemirror_mode": {
        "name": "ipython",
        "version": 3
      },
      "pygments_lexer": "ipython3",
      "nbconvert_exporter": "python",
      "file_extension": ".py"
    },
    "kernel_info": {
      "name": "python3"
    },
    "nteract": {
      "version": "0.14.3"
    }
  },
  "nbformat": 4,
  "nbformat_minor": 2
}